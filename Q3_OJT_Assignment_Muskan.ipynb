{
  "nbformat": 4,
  "nbformat_minor": 0,
  "metadata": {
    "colab": {
      "provenance": []
    },
    "kernelspec": {
      "name": "python3",
      "display_name": "Python 3"
    },
    "language_info": {
      "name": "python"
    }
  },
  "cells": [
    {
      "cell_type": "markdown",
      "source": [
        "Q3. Singular Value Decomposition (SVD):\n"
      ],
      "metadata": {
        "id": "JR9PmMsZSc8-"
      }
    },
    {
      "cell_type": "code",
      "source": [
        "import numpy as np\n",
        "\n",
        "# Set random seed\n",
        "np.random.seed(31)\n",
        "\n",
        "# Create a random 5x5 matrix A with integers between 0 and 9\n",
        "A = np.random.randint(0, 10, size=(5, 5))\n",
        "\n",
        "print(\"Original Matrix A:\")\n",
        "print(A)"
      ],
      "metadata": {
        "colab": {
          "base_uri": "https://localhost:8080/"
        },
        "id": "0vcea0ESSe6I",
        "outputId": "c29d2897-a47c-462a-8a74-2dbfdcfd5053"
      },
      "execution_count": null,
      "outputs": [
        {
          "output_type": "stream",
          "name": "stdout",
          "text": [
            "Original Matrix A:\n",
            "[[2 7 0 2 7]\n",
            " [6 6 2 2 9]\n",
            " [1 7 1 1 4]\n",
            " [6 3 3 2 8]\n",
            " [7 8 1 4 8]]\n"
          ]
        }
      ]
    },
    {
      "cell_type": "code",
      "source": [
        "# Perform Singular Value Decomposition (SVD)\n",
        "U, S, Vt = np.linalg.svd(A)\n",
        "\n",
        "# Construct Σ matrix\n",
        "Sigma = np.zeros_like(A, dtype=float)\n",
        "Sigma[:min(A.shape), :min(A.shape)] = np.diag(S)\n",
        "\n",
        "# Print U, Σ, and Vt matrices\n",
        "print(\"\\nMatrix U:\")\n",
        "print(U)\n",
        "print(\"\\nMatrix Σ:\")\n",
        "print(Sigma)\n",
        "print(\"\\nMatrix Vt:\")\n",
        "print(Vt)\n",
        "\n",
        "# Verify that A equals the product of U, Σ, and Vt\n",
        "A_reconstructed = np.dot(U, np.dot(Sigma, Vt))\n",
        "print(\"\\nReconstructed Matrix A:\")\n",
        "print(A_reconstructed)\n",
        "\n",
        "# Rank 2 approximation of matrix A\n",
        "rank_2_approximation = np.dot(U[:, :2], np.dot(Sigma[:2, :2], Vt[:2, :]))\n",
        "print(\"\\nRank 2 Approximation of Matrix A:\")\n",
        "print(rank_2_approximation)\n",
        "\n",
        "# Rank 3 approximation of matrix A\n",
        "rank_3_approximation = np.dot(U[:, :3], np.dot(Sigma[:3, :3], Vt[:3, :]))\n",
        "print(\"\\nRank 3 Approximation of Matrix A:\")\n",
        "print(rank_3_approximation)"
      ],
      "metadata": {
        "colab": {
          "base_uri": "https://localhost:8080/"
        },
        "id": "jiTxl8SpS1Qo",
        "outputId": "a7d6eb79-beab-4d4a-96e8-2850376bf7fb"
      },
      "execution_count": null,
      "outputs": [
        {
          "output_type": "stream",
          "name": "stdout",
          "text": [
            "\n",
            "Matrix U:\n",
            "[[-0.39953091  0.45674837  0.32361638 -0.68666455 -0.23562728]\n",
            " [-0.51144075 -0.21832159  0.24795802 -0.00299073  0.79326662]\n",
            " [-0.29741327  0.6070015   0.2045938   0.70273809 -0.08599468]\n",
            " [-0.42189049 -0.6124601   0.33881141  0.18504213 -0.54577218]\n",
            " [-0.55888923  0.01258615 -0.82288363 -0.02003592 -0.09972716]]\n",
            "\n",
            "Matrix Σ:\n",
            "[[24.63415922  0.          0.          0.          0.        ]\n",
            " [ 0.          5.89886419  0.          0.          0.        ]\n",
            " [ 0.          0.          2.56033529  0.          0.        ]\n",
            " [ 0.          0.          0.          1.57457159  0.        ]\n",
            " [ 0.          0.          0.          0.          0.57184643]]\n",
            "\n",
            "Matrix Vt:\n",
            "[[-0.43064945 -0.5554904  -0.12766238 -0.211036   -0.66718632]\n",
            " [-0.57232864  0.74584331 -0.28046685 -0.01537933 -0.19302723]\n",
            " [-0.54201585 -0.14897092  0.34919662 -0.49453255  0.56349424]\n",
            " [ 0.17875717  0.31082067  0.78233795 -0.24554736 -0.44619526]\n",
            " [ 0.40155406  0.12785282 -0.41358157 -0.80645604 -0.03141549]]\n",
            "\n",
            "Reconstructed Matrix A:\n",
            "[[2.00000000e+00 7.00000000e+00 1.86478271e-16 2.00000000e+00\n",
            "  7.00000000e+00]\n",
            " [6.00000000e+00 6.00000000e+00 2.00000000e+00 2.00000000e+00\n",
            "  9.00000000e+00]\n",
            " [1.00000000e+00 7.00000000e+00 1.00000000e+00 1.00000000e+00\n",
            "  4.00000000e+00]\n",
            " [6.00000000e+00 3.00000000e+00 3.00000000e+00 2.00000000e+00\n",
            "  8.00000000e+00]\n",
            " [7.00000000e+00 8.00000000e+00 1.00000000e+00 4.00000000e+00\n",
            "  8.00000000e+00]]\n",
            "\n",
            "Rank 2 Approximation of Matrix A:\n",
            "[[ 2.69647529  7.47671962  0.50080608  2.03560265  6.04644715]\n",
            " [ 6.16278798  6.03804127  1.9696063   2.67863045  8.65441221]\n",
            " [ 1.10587334  6.74039588 -0.06892328  1.49109323  4.19700081]\n",
            " [ 6.54342404  3.07856916  2.34006059  2.24884252  7.63138487]\n",
            " [ 5.88658907  7.70323645  1.73680289  2.90435255  9.1713342 ]]\n",
            "\n",
            "Rank 3 Approximation of Matrix A:\n",
            "[[2.24737915 7.35328731 0.79013868 1.62584959 6.51333956]\n",
            " [5.81868615 5.94346624 2.19129575 2.36467367 9.01214972]\n",
            " [0.82194987 6.66236063 0.11399594 1.23204288 4.49217528]\n",
            " [6.07324111 2.94934124 2.64297846 1.81984998 8.12019967]\n",
            " [7.0285395  8.01709704 1.0010952  3.9462624  7.98413185]]\n"
          ]
        }
      ]
    }
  ]
}